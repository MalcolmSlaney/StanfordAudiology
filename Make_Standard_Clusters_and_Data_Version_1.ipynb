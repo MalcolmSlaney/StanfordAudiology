{
  "nbformat": 4,
  "nbformat_minor": 0,
  "metadata": {
    "colab": {
      "provenance": [],
      "toc_visible": true,
      "mount_file_id": "1tcR2zx_-H5iCoE86STYwfUL2KAetmEMH",
      "authorship_tag": "ABX9TyMLl5bkrbI2SZ5sG7X4Lw6R",
      "include_colab_link": true
    },
    "kernelspec": {
      "name": "python3",
      "display_name": "Python 3"
    },
    "language_info": {
      "name": "python"
    }
  },
  "cells": [
    {
      "cell_type": "markdown",
      "metadata": {
        "id": "view-in-github",
        "colab_type": "text"
      },
      "source": [
        "<a href=\"https://colab.research.google.com/github/MalcolmSlaney/StanfordAudiology/blob/main/Make_Standard_Clusters_and_Data_Version_1.ipynb\" target=\"_parent\"><img src=\"https://colab.research.google.com/assets/colab-badge.svg\" alt=\"Open In Colab\"/></a>"
      ]
    },
    {
      "cell_type": "markdown",
      "source": [
        "#Make clusters and process data\n",
        "Read the data from the official spreadsheets, clean it, computer the HL clusters, and calculate the SII.  Save the cluster results (centroids) and a pickle file that has all the results of this processing."
      ],
      "metadata": {
        "id": "DAEOQRnQpGds"
      }
    },
    {
      "cell_type": "markdown",
      "source": [
        "##Imports"
      ],
      "metadata": {
        "id": "0QWDGbOkbXfp"
      }
    },
    {
      "cell_type": "code",
      "source": [
        "!rm -rf StanfordAudiology"
      ],
      "metadata": {
        "id": "ywhc5NXq22hc"
      },
      "execution_count": 1,
      "outputs": []
    },
    {
      "cell_type": "code",
      "execution_count": 2,
      "metadata": {
        "colab": {
          "base_uri": "https://localhost:8080/"
        },
        "id": "xgbYY9DzaESo",
        "outputId": "f7c6c159-ec93-4cc0-f3b1-bf020f66836f"
      },
      "outputs": [
        {
          "output_type": "stream",
          "name": "stdout",
          "text": [
            "Cloning into 'StanfordAudiology'...\n",
            "remote: Enumerating objects: 213, done.\u001b[K\n",
            "remote: Counting objects: 100% (189/189), done.\u001b[K\n",
            "remote: Compressing objects: 100% (144/144), done.\u001b[K\n",
            "remote: Total 213 (delta 111), reused 77 (delta 36), pack-reused 24\u001b[K\n",
            "Receiving objects: 100% (213/213), 98.77 KiB | 1.37 MiB/s, done.\n",
            "Resolving deltas: 100% (114/114), done.\n"
          ]
        }
      ],
      "source": [
        "!git clone https://github.com/MalcolmSlaney/StanfordAudiology.git"
      ]
    },
    {
      "cell_type": "code",
      "source": [
        "# Import the packages needed for this Colab.\n",
        "from collections import Counter\n",
        "import os\n",
        "\n",
        "import matplotlib.pyplot as plt\n",
        "import numpy as np\n",
        "import pandas as pd\n",
        "from scipy import interpolate\n",
        "import sklearn\n",
        "from typing import Dict, List, Optional, Union\n",
        "\n",
        "# This next import is needed here to authenticate user for pulling\n",
        "# spreadsheet data.\n",
        "\n",
        "import google.colab as colab\n",
        "from StanfordAudiology import clusters"
      ],
      "metadata": {
        "id": "tYG76q7bEzWx"
      },
      "execution_count": 3,
      "outputs": []
    },
    {
      "cell_type": "code",
      "source": [
        "colab.auth.authenticate_user"
      ],
      "metadata": {
        "colab": {
          "base_uri": "https://localhost:8080/"
        },
        "id": "lydm1njCaopw",
        "outputId": "989aaedc-a451-496f-ff0a-f4536daf7999"
      },
      "execution_count": 4,
      "outputs": [
        {
          "output_type": "execute_result",
          "data": {
            "text/plain": [
              "<function google.colab.auth.authenticate_user(clear_output=True, project_id=None)>"
            ]
          },
          "metadata": {},
          "execution_count": 4
        }
      ]
    },
    {
      "cell_type": "markdown",
      "source": [
        "##Access our Google Drive with the data"
      ],
      "metadata": {
        "id": "noRZ4v9WaLSg"
      }
    },
    {
      "cell_type": "code",
      "source": [
        "# from google.colab import auth\n",
        "from google.colab import drive\n",
        "# from oauth2client.client import GoogleCredentials"
      ],
      "metadata": {
        "id": "7R2TrFf7bjQk"
      },
      "execution_count": 5,
      "outputs": []
    },
    {
      "cell_type": "code",
      "source": [
        "# Mount my gDrive files\n",
        "# OR this? https://stackoverflow.com/questions/48376580/how-to-read-data-in-google-colab-from-my-google-drive\n",
        "drive.mount('/content/gdrive')"
      ],
      "metadata": {
        "colab": {
          "base_uri": "https://localhost:8080/"
        },
        "id": "aEBV4eeeuHmY",
        "outputId": "f312c6a1-7983-4525-add2-e167082d9931"
      },
      "execution_count": 6,
      "outputs": [
        {
          "output_type": "stream",
          "name": "stdout",
          "text": [
            "Mounted at /content/gdrive\n"
          ]
        }
      ]
    },
    {
      "cell_type": "markdown",
      "source": [
        "##Create the standard clusters"
      ],
      "metadata": {
        "id": "xqVm-OtOe18b"
      }
    },
    {
      "cell_type": "code",
      "source": [
        "# These defines allow us to change the Stanford Audiology. Since these are\n",
        "# symbols defined in the clusters module, they aren't accessible in new versions\n",
        "# of the functions defined here.  By duplicating these symbols into the current\n",
        "# package the new code works like the old.\n",
        "\n",
        "ReadData = clusters.ReadData\n",
        "MakePandas = clusters.MakePandas\n",
        "RemoveRowsWithBadAges = clusters.RemoveRowsWithBadAges\n",
        "HLossClassifier = clusters.HLossClassifier\n",
        "RemoveRowsWithBCWorseAC = clusters.RemoveRowsWithBCWorseAC\n",
        "CreateKMeans = clusters.CreateKMeans\n",
        "CreateClusterLabels = clusters.CreateClusterLabels\n",
        "KMeansPredictions = clusters.KMeansPredictions\n",
        "AssignClusterLabels = clusters.AssignClusterLabels\n",
        "CountPredictions = clusters.CountPredictions\n",
        "SaveAsJson = clusters.SaveAsJson\n",
        "\n",
        "duplicate_column_name_v1 = clusters.duplicate_column_name_v1\n",
        "labels_v1 = clusters.labels_v1\n",
        "spreadsheet_path_v1 = clusters.spreadsheet_path_v1\n",
        "default_cluster_dir = clusters.default_cluster_dir\n",
        "golden_cluster_v1 = clusters.golden_cluster_v1\n",
        "change_key_values_to_integer = clusters.change_key_values_to_integer\n",
        "\n",
        "clusters.default_cluster_dir = '/content/gdrive/Shareddrives/StanfordAudiology/ColabNotebooks/'"
      ],
      "metadata": {
        "id": "mu6hZIh9qpa-"
      },
      "execution_count": 7,
      "outputs": []
    },
    {
      "cell_type": "code",
      "source": [
        "data_pickle_filename = os.path.join(clusters.default_cluster_dir, 'all_hl_data.pkl')\n",
        "!rm {data_pickle_filename}"
      ],
      "metadata": {
        "id": "0aQiOicfD3MU"
      },
      "execution_count": 8,
      "outputs": []
    },
    {
      "cell_type": "code",
      "source": [
        "if os.path.exists(data_pickle_filename):\n",
        "  print(f'Loading standard data from {data_pickle_filename}...')\n",
        "  saved_data_or_filename = pd.read_pickle(data_pickle_filename)\n",
        "  print(f'  and it has shape {saved_data_or_filename.shape}')\n",
        "else:\n",
        "  saved_data_or_filename = clusters.spreadsheet_path_v1"
      ],
      "metadata": {
        "id": "-yiC5Kp8qffL"
      },
      "execution_count": 9,
      "outputs": []
    },
    {
      "cell_type": "code",
      "source": [
        "!ls {clusters.default_cluster_dir}\n",
        "clusters.default_cluster_dir"
      ],
      "metadata": {
        "colab": {
          "base_uri": "https://localhost:8080/",
          "height": 107
        },
        "id": "dGWWRmlSHEMc",
        "outputId": "69aa4400-9275-4687-e5dc-f9d691c03efc"
      },
      "execution_count": 10,
      "outputs": [
        {
          "output_type": "stream",
          "name": "stdout",
          "text": [
            "Cluster04Way.json  Cluster08Way.json  Cluster12Way.json  Cluster16Way.json  Cluster6Way.json\n",
            "Cluster05Way.json  Cluster09Way.json  Cluster13Way.json  Cluster17Way.json  Cluster6Way.json.json\n",
            "Cluster06Way.json  Cluster10Way.json  Cluster14Way.json  Cluster18Way.json  ClustersV1.json\n",
            "Cluster07Way.json  Cluster11Way.json  Cluster15Way.json  Cluster19Way.json\n"
          ]
        },
        {
          "output_type": "execute_result",
          "data": {
            "text/plain": [
              "'/content/gdrive/Shareddrives/StanfordAudiology/ColabNotebooks/'"
            ],
            "application/vnd.google.colaboratory.intrinsic+json": {
              "type": "string"
            }
          },
          "metadata": {},
          "execution_count": 10
        }
      ]
    },
    {
      "cell_type": "code",
      "source": [
        "colab.auth.authenticate_user()\n",
        "\n",
        "cluster_data_filename, all_data = clusters.CreateClusterV1(\n",
        "    'ClustersV1',\n",
        "    save_path=clusters.default_cluster_dir,\n",
        "    spreadsheet_path=saved_data_or_filename)"
      ],
      "metadata": {
        "colab": {
          "base_uri": "https://localhost:8080/"
        },
        "id": "2PqjKwr6e1tC",
        "outputId": "35c3d5f4-cb49-4435-b6fd-3da301283685"
      },
      "execution_count": 11,
      "outputs": [
        {
          "output_type": "stream",
          "name": "stdout",
          "text": [
            "Number of rows that have been dropped due to AC/BC differences:  0\n",
            "all_data has 99 columns\n"
          ]
        }
      ]
    },
    {
      "cell_type": "code",
      "source": [
        "!ls -l {cluster_data_filename}"
      ],
      "metadata": {
        "colab": {
          "base_uri": "https://localhost:8080/"
        },
        "id": "i7FD-i8DHl_u",
        "outputId": "f3f12d93-1316-467d-b77c-a09ea109234d"
      },
      "execution_count": 12,
      "outputs": [
        {
          "output_type": "stream",
          "name": "stdout",
          "text": [
            "-rw------- 1 root root 4530 Oct 22 14:12 /content/gdrive/Shareddrives/StanfordAudiology/ColabNotebooks/ClustersV1.json\n"
          ]
        }
      ]
    },
    {
      "cell_type": "code",
      "source": [
        "all_data.shape"
      ],
      "metadata": {
        "colab": {
          "base_uri": "https://localhost:8080/"
        },
        "id": "MewiW7WfI7As",
        "outputId": "4aadb0d5-e303-436a-a160-eb29b98208ae"
      },
      "execution_count": 13,
      "outputs": [
        {
          "output_type": "execute_result",
          "data": {
            "text/plain": [
              "(57718, 100)"
            ]
          },
          "metadata": {},
          "execution_count": 13
        }
      ]
    },
    {
      "cell_type": "code",
      "source": [
        "all_data.columns"
      ],
      "metadata": {
        "colab": {
          "base_uri": "https://localhost:8080/"
        },
        "id": "4Wtra1z8-sKR",
        "outputId": "9a93766c-49fe-466c-c3cb-635118bff920"
      },
      "execution_count": 14,
      "outputs": [
        {
          "output_type": "execute_result",
          "data": {
            "text/plain": [
              "Index(['AgeAtTestDate', 'R125', 'R250', 'R500', 'R1000', 'R1500', 'R2000',\n",
              "       'R3000', 'R4000', 'R6000', 'R8000', 'L125', 'L250', 'L500', 'L1000',\n",
              "       'L1500', 'L2000', 'L3000', 'L4000', 'L6000', 'L8000', 'RBone125',\n",
              "       'RBone250', 'RBone500', 'RBone1000', 'RBone1500', 'RBone2000',\n",
              "       'RBone3000', 'RBone4000', 'RBone6000', 'RBone8000', 'LBone125',\n",
              "       'LBone250', 'LBone500', 'LBone1000', 'LBone2000', 'LBone2000',\n",
              "       'LBone3000', 'LBone4000', 'LBone6000', 'LBone8000', 'SRT_R',\n",
              "       'DateOfTest', 'SRT_L', 'Word_Rec_Score_R', 'Headphones',\n",
              "       'Word_Rec_Score_L', 'Word_Rec_Level_R', 'Word_Rec_Masking_R',\n",
              "       'Word_Rec_Masking_L', 'Word_Rec_Level_L', 'TestLocation',\n",
              "       'WordRecListRight', 'WordRecListLeft', 'MonSNR_Score_R',\n",
              "       'MonSNR_Score_L', 'MonSNR_Right_Number_Lists', 'MonSNR_Level_R',\n",
              "       'MonSNR_Left_Number_Lists', 'MonSNR_Level_L', 'TympPressure_L',\n",
              "       'TympCompliance_L', 'TympType_R', 'TympVolume_L', 'TympVolume_R',\n",
              "       'TympPressure_R', 'TympCompliance_R', 'TympType_L',\n",
              "       'Reflex_RightIpsi500', 'Reflex_RightIpsi1000', 'Reflex_RightIpsi2000',\n",
              "       'Reflex_LeftIpsi500', 'Reflex_LeftIpsi1000', 'Reflex_LeftIpsi2000',\n",
              "       'R_HFPTA', 'L_HFPTA', 'R_PTA', 'L_PTA', 'R_PTA_All', 'L_PTA_All',\n",
              "       'R_LFPTA', 'L_LFPTA', 'R_UHFPTA', 'L_UHFPTA', 'R_PTA_BC_Mod',\n",
              "       'L_PTA_BC_Mod', 'R_HFPTA_BC_Mod', 'L_HFPTA_BC_Mod', 'R_PTA_BC_All',\n",
              "       'L_PTA_BC_All', 'R_PTA_ABGap', 'R_HFPTA_ABGap', 'R_PTA_All_ABGap',\n",
              "       'L_PTA_ABGap', 'L_HFPTA_ABGap', 'L_PTA_All_ABGap', 'R_Type_HL_Mod',\n",
              "       'R_Type_HL_HF', 'R_Type_HL_All', 'predictions'],\n",
              "      dtype='object')"
            ]
          },
          "metadata": {},
          "execution_count": 14
        }
      ]
    },
    {
      "cell_type": "code",
      "source": [
        "clusters.default_cluster_dir"
      ],
      "metadata": {
        "colab": {
          "base_uri": "https://localhost:8080/",
          "height": 35
        },
        "id": "fIkMAPIjt5xM",
        "outputId": "966b3e2c-e15b-4e21-86bf-07f9f6af83cc"
      },
      "execution_count": 15,
      "outputs": [
        {
          "output_type": "execute_result",
          "data": {
            "text/plain": [
              "'/content/gdrive/Shareddrives/StanfordAudiology/ColabNotebooks/'"
            ],
            "application/vnd.google.colaboratory.intrinsic+json": {
              "type": "string"
            }
          },
          "metadata": {},
          "execution_count": 15
        }
      ]
    },
    {
      "cell_type": "code",
      "source": [
        "all_data"
      ],
      "metadata": {
        "colab": {
          "base_uri": "https://localhost:8080/",
          "height": 444
        },
        "id": "sZn9_5_jzi2y",
        "outputId": "f0a3580d-dabc-4eb5-dd48-d19ec53f739d"
      },
      "execution_count": 16,
      "outputs": [
        {
          "output_type": "execute_result",
          "data": {
            "text/plain": [
              "       AgeAtTestDate  R125  R250  R500  R1000  R1500  R2000  R3000  R4000  \\\n",
              "0               58.0   NaN  55.0  60.0   60.0    NaN   60.0   50.0   45.0   \n",
              "1               37.0   NaN  45.0  40.0   35.0    NaN   50.0   40.0   50.0   \n",
              "2               25.0   NaN  20.0  15.0   15.0    NaN   15.0   20.0   25.0   \n",
              "3               49.0   NaN  15.0  15.0   20.0    NaN   10.0    0.0    0.0   \n",
              "4               47.0   NaN  15.0  15.0   10.0    NaN    5.0   10.0   15.0   \n",
              "...              ...   ...   ...   ...    ...    ...    ...    ...    ...   \n",
              "76967           86.0   NaN  75.0  85.0   85.0   80.0   75.0   75.0   70.0   \n",
              "76968           91.0   NaN  40.0  40.0   50.0   50.0   60.0   75.0   85.0   \n",
              "76969           40.0   NaN  30.0  25.0   20.0    NaN   15.0   10.0   10.0   \n",
              "76972           75.0   NaN  20.0  25.0   30.0    NaN   40.0   45.0   55.0   \n",
              "76976           25.0   NaN  45.0  50.0   45.0   45.0   40.0   70.0   65.0   \n",
              "\n",
              "       R6000  ...  R_PTA_ABGap  R_HFPTA_ABGap  R_PTA_All_ABGap  L_PTA_ABGap  \\\n",
              "0       50.0  ...    46.666667      36.666666            41.25     5.416666   \n",
              "1       50.0  ...    25.000002      28.333334            26.25    11.666668   \n",
              "2       30.0  ...    10.000000       8.333334            10.00    20.833332   \n",
              "3        0.0  ...    10.000000       6.666667             7.50     3.333333   \n",
              "4       15.0  ...     1.666667       3.333333             3.75          NaN   \n",
              "...      ...  ...          ...            ...              ...          ...   \n",
              "76967   70.0  ...     3.333328       1.666664             2.50    18.333336   \n",
              "76968   80.0  ...          NaN            NaN              NaN    -1.250000   \n",
              "76969   10.0  ...     3.333334       0.000000             2.50     0.833334   \n",
              "76972   60.0  ...          NaN      -8.333332           -12.50     2.500000   \n",
              "76976   60.0  ...    30.000000      36.666667            36.25     0.833334   \n",
              "\n",
              "       L_HFPTA_ABGap  L_PTA_All_ABGap  R_Type_HL_Mod  R_Type_HL_HF  \\\n",
              "0           3.750000             6.00     Conductive    Conductive   \n",
              "1           7.500000            10.00     Conductive    Conductive   \n",
              "2          16.250000            19.50         Normal        Normal   \n",
              "3           3.333333             3.75         Normal        Normal   \n",
              "4           6.666667             8.75         Normal        Normal   \n",
              "...              ...              ...            ...           ...   \n",
              "76967      18.333336            17.50           SNHL          SNHL   \n",
              "76968       1.666668             0.25         Normal        Normal   \n",
              "76969       2.500000             3.00         Normal        Normal   \n",
              "76972       7.500000             4.75         Normal          SNHL   \n",
              "76976       0.416666             1.50     Conductive    Conductive   \n",
              "\n",
              "       R_Type_HL_All  predictions  \n",
              "0         Conductive            5  \n",
              "1         Conductive            5  \n",
              "2             Normal            1  \n",
              "3             Normal            2  \n",
              "4             Normal            2  \n",
              "...              ...          ...  \n",
              "76967           SNHL            4  \n",
              "76968         Normal            0  \n",
              "76969         Normal            2  \n",
              "76972           SNHL            3  \n",
              "76976     Conductive            0  \n",
              "\n",
              "[57718 rows x 100 columns]"
            ],
            "text/html": [
              "\n",
              "  <div id=\"df-2488feee-a4ed-429e-aedc-49fb97e76d8f\" class=\"colab-df-container\">\n",
              "    <div>\n",
              "<style scoped>\n",
              "    .dataframe tbody tr th:only-of-type {\n",
              "        vertical-align: middle;\n",
              "    }\n",
              "\n",
              "    .dataframe tbody tr th {\n",
              "        vertical-align: top;\n",
              "    }\n",
              "\n",
              "    .dataframe thead th {\n",
              "        text-align: right;\n",
              "    }\n",
              "</style>\n",
              "<table border=\"1\" class=\"dataframe\">\n",
              "  <thead>\n",
              "    <tr style=\"text-align: right;\">\n",
              "      <th></th>\n",
              "      <th>AgeAtTestDate</th>\n",
              "      <th>R125</th>\n",
              "      <th>R250</th>\n",
              "      <th>R500</th>\n",
              "      <th>R1000</th>\n",
              "      <th>R1500</th>\n",
              "      <th>R2000</th>\n",
              "      <th>R3000</th>\n",
              "      <th>R4000</th>\n",
              "      <th>R6000</th>\n",
              "      <th>...</th>\n",
              "      <th>R_PTA_ABGap</th>\n",
              "      <th>R_HFPTA_ABGap</th>\n",
              "      <th>R_PTA_All_ABGap</th>\n",
              "      <th>L_PTA_ABGap</th>\n",
              "      <th>L_HFPTA_ABGap</th>\n",
              "      <th>L_PTA_All_ABGap</th>\n",
              "      <th>R_Type_HL_Mod</th>\n",
              "      <th>R_Type_HL_HF</th>\n",
              "      <th>R_Type_HL_All</th>\n",
              "      <th>predictions</th>\n",
              "    </tr>\n",
              "  </thead>\n",
              "  <tbody>\n",
              "    <tr>\n",
              "      <th>0</th>\n",
              "      <td>58.0</td>\n",
              "      <td>NaN</td>\n",
              "      <td>55.0</td>\n",
              "      <td>60.0</td>\n",
              "      <td>60.0</td>\n",
              "      <td>NaN</td>\n",
              "      <td>60.0</td>\n",
              "      <td>50.0</td>\n",
              "      <td>45.0</td>\n",
              "      <td>50.0</td>\n",
              "      <td>...</td>\n",
              "      <td>46.666667</td>\n",
              "      <td>36.666666</td>\n",
              "      <td>41.25</td>\n",
              "      <td>5.416666</td>\n",
              "      <td>3.750000</td>\n",
              "      <td>6.00</td>\n",
              "      <td>Conductive</td>\n",
              "      <td>Conductive</td>\n",
              "      <td>Conductive</td>\n",
              "      <td>5</td>\n",
              "    </tr>\n",
              "    <tr>\n",
              "      <th>1</th>\n",
              "      <td>37.0</td>\n",
              "      <td>NaN</td>\n",
              "      <td>45.0</td>\n",
              "      <td>40.0</td>\n",
              "      <td>35.0</td>\n",
              "      <td>NaN</td>\n",
              "      <td>50.0</td>\n",
              "      <td>40.0</td>\n",
              "      <td>50.0</td>\n",
              "      <td>50.0</td>\n",
              "      <td>...</td>\n",
              "      <td>25.000002</td>\n",
              "      <td>28.333334</td>\n",
              "      <td>26.25</td>\n",
              "      <td>11.666668</td>\n",
              "      <td>7.500000</td>\n",
              "      <td>10.00</td>\n",
              "      <td>Conductive</td>\n",
              "      <td>Conductive</td>\n",
              "      <td>Conductive</td>\n",
              "      <td>5</td>\n",
              "    </tr>\n",
              "    <tr>\n",
              "      <th>2</th>\n",
              "      <td>25.0</td>\n",
              "      <td>NaN</td>\n",
              "      <td>20.0</td>\n",
              "      <td>15.0</td>\n",
              "      <td>15.0</td>\n",
              "      <td>NaN</td>\n",
              "      <td>15.0</td>\n",
              "      <td>20.0</td>\n",
              "      <td>25.0</td>\n",
              "      <td>30.0</td>\n",
              "      <td>...</td>\n",
              "      <td>10.000000</td>\n",
              "      <td>8.333334</td>\n",
              "      <td>10.00</td>\n",
              "      <td>20.833332</td>\n",
              "      <td>16.250000</td>\n",
              "      <td>19.50</td>\n",
              "      <td>Normal</td>\n",
              "      <td>Normal</td>\n",
              "      <td>Normal</td>\n",
              "      <td>1</td>\n",
              "    </tr>\n",
              "    <tr>\n",
              "      <th>3</th>\n",
              "      <td>49.0</td>\n",
              "      <td>NaN</td>\n",
              "      <td>15.0</td>\n",
              "      <td>15.0</td>\n",
              "      <td>20.0</td>\n",
              "      <td>NaN</td>\n",
              "      <td>10.0</td>\n",
              "      <td>0.0</td>\n",
              "      <td>0.0</td>\n",
              "      <td>0.0</td>\n",
              "      <td>...</td>\n",
              "      <td>10.000000</td>\n",
              "      <td>6.666667</td>\n",
              "      <td>7.50</td>\n",
              "      <td>3.333333</td>\n",
              "      <td>3.333333</td>\n",
              "      <td>3.75</td>\n",
              "      <td>Normal</td>\n",
              "      <td>Normal</td>\n",
              "      <td>Normal</td>\n",
              "      <td>2</td>\n",
              "    </tr>\n",
              "    <tr>\n",
              "      <th>4</th>\n",
              "      <td>47.0</td>\n",
              "      <td>NaN</td>\n",
              "      <td>15.0</td>\n",
              "      <td>15.0</td>\n",
              "      <td>10.0</td>\n",
              "      <td>NaN</td>\n",
              "      <td>5.0</td>\n",
              "      <td>10.0</td>\n",
              "      <td>15.0</td>\n",
              "      <td>15.0</td>\n",
              "      <td>...</td>\n",
              "      <td>1.666667</td>\n",
              "      <td>3.333333</td>\n",
              "      <td>3.75</td>\n",
              "      <td>NaN</td>\n",
              "      <td>6.666667</td>\n",
              "      <td>8.75</td>\n",
              "      <td>Normal</td>\n",
              "      <td>Normal</td>\n",
              "      <td>Normal</td>\n",
              "      <td>2</td>\n",
              "    </tr>\n",
              "    <tr>\n",
              "      <th>...</th>\n",
              "      <td>...</td>\n",
              "      <td>...</td>\n",
              "      <td>...</td>\n",
              "      <td>...</td>\n",
              "      <td>...</td>\n",
              "      <td>...</td>\n",
              "      <td>...</td>\n",
              "      <td>...</td>\n",
              "      <td>...</td>\n",
              "      <td>...</td>\n",
              "      <td>...</td>\n",
              "      <td>...</td>\n",
              "      <td>...</td>\n",
              "      <td>...</td>\n",
              "      <td>...</td>\n",
              "      <td>...</td>\n",
              "      <td>...</td>\n",
              "      <td>...</td>\n",
              "      <td>...</td>\n",
              "      <td>...</td>\n",
              "      <td>...</td>\n",
              "    </tr>\n",
              "    <tr>\n",
              "      <th>76967</th>\n",
              "      <td>86.0</td>\n",
              "      <td>NaN</td>\n",
              "      <td>75.0</td>\n",
              "      <td>85.0</td>\n",
              "      <td>85.0</td>\n",
              "      <td>80.0</td>\n",
              "      <td>75.0</td>\n",
              "      <td>75.0</td>\n",
              "      <td>70.0</td>\n",
              "      <td>70.0</td>\n",
              "      <td>...</td>\n",
              "      <td>3.333328</td>\n",
              "      <td>1.666664</td>\n",
              "      <td>2.50</td>\n",
              "      <td>18.333336</td>\n",
              "      <td>18.333336</td>\n",
              "      <td>17.50</td>\n",
              "      <td>SNHL</td>\n",
              "      <td>SNHL</td>\n",
              "      <td>SNHL</td>\n",
              "      <td>4</td>\n",
              "    </tr>\n",
              "    <tr>\n",
              "      <th>76968</th>\n",
              "      <td>91.0</td>\n",
              "      <td>NaN</td>\n",
              "      <td>40.0</td>\n",
              "      <td>40.0</td>\n",
              "      <td>50.0</td>\n",
              "      <td>50.0</td>\n",
              "      <td>60.0</td>\n",
              "      <td>75.0</td>\n",
              "      <td>85.0</td>\n",
              "      <td>80.0</td>\n",
              "      <td>...</td>\n",
              "      <td>NaN</td>\n",
              "      <td>NaN</td>\n",
              "      <td>NaN</td>\n",
              "      <td>-1.250000</td>\n",
              "      <td>1.666668</td>\n",
              "      <td>0.25</td>\n",
              "      <td>Normal</td>\n",
              "      <td>Normal</td>\n",
              "      <td>Normal</td>\n",
              "      <td>0</td>\n",
              "    </tr>\n",
              "    <tr>\n",
              "      <th>76969</th>\n",
              "      <td>40.0</td>\n",
              "      <td>NaN</td>\n",
              "      <td>30.0</td>\n",
              "      <td>25.0</td>\n",
              "      <td>20.0</td>\n",
              "      <td>NaN</td>\n",
              "      <td>15.0</td>\n",
              "      <td>10.0</td>\n",
              "      <td>10.0</td>\n",
              "      <td>10.0</td>\n",
              "      <td>...</td>\n",
              "      <td>3.333334</td>\n",
              "      <td>0.000000</td>\n",
              "      <td>2.50</td>\n",
              "      <td>0.833334</td>\n",
              "      <td>2.500000</td>\n",
              "      <td>3.00</td>\n",
              "      <td>Normal</td>\n",
              "      <td>Normal</td>\n",
              "      <td>Normal</td>\n",
              "      <td>2</td>\n",
              "    </tr>\n",
              "    <tr>\n",
              "      <th>76972</th>\n",
              "      <td>75.0</td>\n",
              "      <td>NaN</td>\n",
              "      <td>20.0</td>\n",
              "      <td>25.0</td>\n",
              "      <td>30.0</td>\n",
              "      <td>NaN</td>\n",
              "      <td>40.0</td>\n",
              "      <td>45.0</td>\n",
              "      <td>55.0</td>\n",
              "      <td>60.0</td>\n",
              "      <td>...</td>\n",
              "      <td>NaN</td>\n",
              "      <td>-8.333332</td>\n",
              "      <td>-12.50</td>\n",
              "      <td>2.500000</td>\n",
              "      <td>7.500000</td>\n",
              "      <td>4.75</td>\n",
              "      <td>Normal</td>\n",
              "      <td>SNHL</td>\n",
              "      <td>SNHL</td>\n",
              "      <td>3</td>\n",
              "    </tr>\n",
              "    <tr>\n",
              "      <th>76976</th>\n",
              "      <td>25.0</td>\n",
              "      <td>NaN</td>\n",
              "      <td>45.0</td>\n",
              "      <td>50.0</td>\n",
              "      <td>45.0</td>\n",
              "      <td>45.0</td>\n",
              "      <td>40.0</td>\n",
              "      <td>70.0</td>\n",
              "      <td>65.0</td>\n",
              "      <td>60.0</td>\n",
              "      <td>...</td>\n",
              "      <td>30.000000</td>\n",
              "      <td>36.666667</td>\n",
              "      <td>36.25</td>\n",
              "      <td>0.833334</td>\n",
              "      <td>0.416666</td>\n",
              "      <td>1.50</td>\n",
              "      <td>Conductive</td>\n",
              "      <td>Conductive</td>\n",
              "      <td>Conductive</td>\n",
              "      <td>0</td>\n",
              "    </tr>\n",
              "  </tbody>\n",
              "</table>\n",
              "<p>57718 rows × 100 columns</p>\n",
              "</div>\n",
              "    <div class=\"colab-df-buttons\">\n",
              "\n",
              "  <div class=\"colab-df-container\">\n",
              "    <button class=\"colab-df-convert\" onclick=\"convertToInteractive('df-2488feee-a4ed-429e-aedc-49fb97e76d8f')\"\n",
              "            title=\"Convert this dataframe to an interactive table.\"\n",
              "            style=\"display:none;\">\n",
              "\n",
              "  <svg xmlns=\"http://www.w3.org/2000/svg\" height=\"24px\" viewBox=\"0 -960 960 960\">\n",
              "    <path d=\"M120-120v-720h720v720H120Zm60-500h600v-160H180v160Zm220 220h160v-160H400v160Zm0 220h160v-160H400v160ZM180-400h160v-160H180v160Zm440 0h160v-160H620v160ZM180-180h160v-160H180v160Zm440 0h160v-160H620v160Z\"/>\n",
              "  </svg>\n",
              "    </button>\n",
              "\n",
              "  <style>\n",
              "    .colab-df-container {\n",
              "      display:flex;\n",
              "      gap: 12px;\n",
              "    }\n",
              "\n",
              "    .colab-df-convert {\n",
              "      background-color: #E8F0FE;\n",
              "      border: none;\n",
              "      border-radius: 50%;\n",
              "      cursor: pointer;\n",
              "      display: none;\n",
              "      fill: #1967D2;\n",
              "      height: 32px;\n",
              "      padding: 0 0 0 0;\n",
              "      width: 32px;\n",
              "    }\n",
              "\n",
              "    .colab-df-convert:hover {\n",
              "      background-color: #E2EBFA;\n",
              "      box-shadow: 0px 1px 2px rgba(60, 64, 67, 0.3), 0px 1px 3px 1px rgba(60, 64, 67, 0.15);\n",
              "      fill: #174EA6;\n",
              "    }\n",
              "\n",
              "    .colab-df-buttons div {\n",
              "      margin-bottom: 4px;\n",
              "    }\n",
              "\n",
              "    [theme=dark] .colab-df-convert {\n",
              "      background-color: #3B4455;\n",
              "      fill: #D2E3FC;\n",
              "    }\n",
              "\n",
              "    [theme=dark] .colab-df-convert:hover {\n",
              "      background-color: #434B5C;\n",
              "      box-shadow: 0px 1px 3px 1px rgba(0, 0, 0, 0.15);\n",
              "      filter: drop-shadow(0px 1px 2px rgba(0, 0, 0, 0.3));\n",
              "      fill: #FFFFFF;\n",
              "    }\n",
              "  </style>\n",
              "\n",
              "    <script>\n",
              "      const buttonEl =\n",
              "        document.querySelector('#df-2488feee-a4ed-429e-aedc-49fb97e76d8f button.colab-df-convert');\n",
              "      buttonEl.style.display =\n",
              "        google.colab.kernel.accessAllowed ? 'block' : 'none';\n",
              "\n",
              "      async function convertToInteractive(key) {\n",
              "        const element = document.querySelector('#df-2488feee-a4ed-429e-aedc-49fb97e76d8f');\n",
              "        const dataTable =\n",
              "          await google.colab.kernel.invokeFunction('convertToInteractive',\n",
              "                                                    [key], {});\n",
              "        if (!dataTable) return;\n",
              "\n",
              "        const docLinkHtml = 'Like what you see? Visit the ' +\n",
              "          '<a target=\"_blank\" href=https://colab.research.google.com/notebooks/data_table.ipynb>data table notebook</a>'\n",
              "          + ' to learn more about interactive tables.';\n",
              "        element.innerHTML = '';\n",
              "        dataTable['output_type'] = 'display_data';\n",
              "        await google.colab.output.renderOutput(dataTable, element);\n",
              "        const docLink = document.createElement('div');\n",
              "        docLink.innerHTML = docLinkHtml;\n",
              "        element.appendChild(docLink);\n",
              "      }\n",
              "    </script>\n",
              "  </div>\n",
              "\n",
              "\n",
              "<div id=\"df-b2cb3068-8fad-4263-acda-2c15240e1178\">\n",
              "  <button class=\"colab-df-quickchart\" onclick=\"quickchart('df-b2cb3068-8fad-4263-acda-2c15240e1178')\"\n",
              "            title=\"Suggest charts.\"\n",
              "            style=\"display:none;\">\n",
              "\n",
              "<svg xmlns=\"http://www.w3.org/2000/svg\" height=\"24px\"viewBox=\"0 0 24 24\"\n",
              "     width=\"24px\">\n",
              "    <g>\n",
              "        <path d=\"M19 3H5c-1.1 0-2 .9-2 2v14c0 1.1.9 2 2 2h14c1.1 0 2-.9 2-2V5c0-1.1-.9-2-2-2zM9 17H7v-7h2v7zm4 0h-2V7h2v10zm4 0h-2v-4h2v4z\"/>\n",
              "    </g>\n",
              "</svg>\n",
              "  </button>\n",
              "\n",
              "<style>\n",
              "  .colab-df-quickchart {\n",
              "      --bg-color: #E8F0FE;\n",
              "      --fill-color: #1967D2;\n",
              "      --hover-bg-color: #E2EBFA;\n",
              "      --hover-fill-color: #174EA6;\n",
              "      --disabled-fill-color: #AAA;\n",
              "      --disabled-bg-color: #DDD;\n",
              "  }\n",
              "\n",
              "  [theme=dark] .colab-df-quickchart {\n",
              "      --bg-color: #3B4455;\n",
              "      --fill-color: #D2E3FC;\n",
              "      --hover-bg-color: #434B5C;\n",
              "      --hover-fill-color: #FFFFFF;\n",
              "      --disabled-bg-color: #3B4455;\n",
              "      --disabled-fill-color: #666;\n",
              "  }\n",
              "\n",
              "  .colab-df-quickchart {\n",
              "    background-color: var(--bg-color);\n",
              "    border: none;\n",
              "    border-radius: 50%;\n",
              "    cursor: pointer;\n",
              "    display: none;\n",
              "    fill: var(--fill-color);\n",
              "    height: 32px;\n",
              "    padding: 0;\n",
              "    width: 32px;\n",
              "  }\n",
              "\n",
              "  .colab-df-quickchart:hover {\n",
              "    background-color: var(--hover-bg-color);\n",
              "    box-shadow: 0 1px 2px rgba(60, 64, 67, 0.3), 0 1px 3px 1px rgba(60, 64, 67, 0.15);\n",
              "    fill: var(--button-hover-fill-color);\n",
              "  }\n",
              "\n",
              "  .colab-df-quickchart-complete:disabled,\n",
              "  .colab-df-quickchart-complete:disabled:hover {\n",
              "    background-color: var(--disabled-bg-color);\n",
              "    fill: var(--disabled-fill-color);\n",
              "    box-shadow: none;\n",
              "  }\n",
              "\n",
              "  .colab-df-spinner {\n",
              "    border: 2px solid var(--fill-color);\n",
              "    border-color: transparent;\n",
              "    border-bottom-color: var(--fill-color);\n",
              "    animation:\n",
              "      spin 1s steps(1) infinite;\n",
              "  }\n",
              "\n",
              "  @keyframes spin {\n",
              "    0% {\n",
              "      border-color: transparent;\n",
              "      border-bottom-color: var(--fill-color);\n",
              "      border-left-color: var(--fill-color);\n",
              "    }\n",
              "    20% {\n",
              "      border-color: transparent;\n",
              "      border-left-color: var(--fill-color);\n",
              "      border-top-color: var(--fill-color);\n",
              "    }\n",
              "    30% {\n",
              "      border-color: transparent;\n",
              "      border-left-color: var(--fill-color);\n",
              "      border-top-color: var(--fill-color);\n",
              "      border-right-color: var(--fill-color);\n",
              "    }\n",
              "    40% {\n",
              "      border-color: transparent;\n",
              "      border-right-color: var(--fill-color);\n",
              "      border-top-color: var(--fill-color);\n",
              "    }\n",
              "    60% {\n",
              "      border-color: transparent;\n",
              "      border-right-color: var(--fill-color);\n",
              "    }\n",
              "    80% {\n",
              "      border-color: transparent;\n",
              "      border-right-color: var(--fill-color);\n",
              "      border-bottom-color: var(--fill-color);\n",
              "    }\n",
              "    90% {\n",
              "      border-color: transparent;\n",
              "      border-bottom-color: var(--fill-color);\n",
              "    }\n",
              "  }\n",
              "</style>\n",
              "\n",
              "  <script>\n",
              "    async function quickchart(key) {\n",
              "      const quickchartButtonEl =\n",
              "        document.querySelector('#' + key + ' button');\n",
              "      quickchartButtonEl.disabled = true;  // To prevent multiple clicks.\n",
              "      quickchartButtonEl.classList.add('colab-df-spinner');\n",
              "      try {\n",
              "        const charts = await google.colab.kernel.invokeFunction(\n",
              "            'suggestCharts', [key], {});\n",
              "      } catch (error) {\n",
              "        console.error('Error during call to suggestCharts:', error);\n",
              "      }\n",
              "      quickchartButtonEl.classList.remove('colab-df-spinner');\n",
              "      quickchartButtonEl.classList.add('colab-df-quickchart-complete');\n",
              "    }\n",
              "    (() => {\n",
              "      let quickchartButtonEl =\n",
              "        document.querySelector('#df-b2cb3068-8fad-4263-acda-2c15240e1178 button');\n",
              "      quickchartButtonEl.style.display =\n",
              "        google.colab.kernel.accessAllowed ? 'block' : 'none';\n",
              "    })();\n",
              "  </script>\n",
              "</div>\n",
              "    </div>\n",
              "  </div>\n"
            ]
          },
          "metadata": {},
          "execution_count": 16
        }
      ]
    },
    {
      "cell_type": "code",
      "source": [
        "random_state = 0\n",
        "max_iter = 1000\n",
        "n_init = 10\n",
        "ref_cluster = golden_cluster_v1\n",
        "\n",
        "for n in range(4,21):\n",
        "  print(f'{n}-way clustering...')\n",
        "  # Create and apply K-means clustering\n",
        "  kmeans = clusters.CreateKMeans(n, all_data[clusters.labels_v1], random_state, max_iter, n_init)\n",
        "  # cluster_labels = CreateClusterLabels(kmeans, ref_cluster)\n",
        "  cluster_ids = clusters.KMeansPredictions(kmeans, all_data[clusters.labels_v1])\n",
        "  all_data[f'Cluster{n:02}Way'] = cluster_ids"
      ],
      "metadata": {
        "colab": {
          "base_uri": "https://localhost:8080/"
        },
        "id": "nfu0SnsxSaiy",
        "outputId": "5334d500-c729-435a-a018-22770ec27b98"
      },
      "execution_count": 17,
      "outputs": [
        {
          "output_type": "stream",
          "name": "stdout",
          "text": [
            "4-way clustering...\n",
            "5-way clustering...\n",
            "6-way clustering...\n",
            "7-way clustering...\n",
            "8-way clustering...\n",
            "9-way clustering...\n",
            "10-way clustering...\n",
            "11-way clustering...\n",
            "12-way clustering...\n",
            "13-way clustering...\n",
            "14-way clustering...\n",
            "15-way clustering...\n",
            "16-way clustering...\n",
            "17-way clustering...\n",
            "18-way clustering...\n",
            "19-way clustering...\n",
            "20-way clustering...\n"
          ]
        }
      ]
    },
    {
      "cell_type": "code",
      "source": [
        "CountPredictions(all_data, cluster_field='Cluster20Way')"
      ],
      "metadata": {
        "colab": {
          "base_uri": "https://localhost:8080/"
        },
        "id": "HQRAzZDZYIM4",
        "outputId": "3dd021c6-ac7a-4ce3-f2fd-a1734e7e5151"
      },
      "execution_count": 18,
      "outputs": [
        {
          "output_type": "execute_result",
          "data": {
            "text/plain": [
              "Counter({7: 1729,\n",
              "         0: 1728,\n",
              "         4: 2904,\n",
              "         12: 7102,\n",
              "         14: 7427,\n",
              "         1: 2938,\n",
              "         10: 1348,\n",
              "         18: 1806,\n",
              "         16: 2727,\n",
              "         17: 3020,\n",
              "         11: 3994,\n",
              "         15: 2627,\n",
              "         13: 2707,\n",
              "         5: 3259,\n",
              "         19: 1394,\n",
              "         8: 3079,\n",
              "         2: 2119,\n",
              "         9: 2910,\n",
              "         3: 941,\n",
              "         6: 1959})"
            ]
          },
          "metadata": {},
          "execution_count": 18
        }
      ]
    },
    {
      "cell_type": "markdown",
      "source": [
        "##Add the Speech Intelligibility Index before saving"
      ],
      "metadata": {
        "id": "00vfdqGJAHxW"
      }
    },
    {
      "cell_type": "code",
      "source": [
        "!pip install speech_intelligibility_index"
      ],
      "metadata": {
        "colab": {
          "base_uri": "https://localhost:8080/"
        },
        "id": "E-ZOojYTBgRD",
        "outputId": "d266e579-ec5e-49a4-ab26-a6bafab2d4fa"
      },
      "execution_count": 19,
      "outputs": [
        {
          "output_type": "stream",
          "name": "stdout",
          "text": [
            "Requirement already satisfied: speech_intelligibility_index in /usr/local/lib/python3.10/dist-packages (1.0.2)\n",
            "Requirement already satisfied: absl-py in /usr/local/lib/python3.10/dist-packages (from speech_intelligibility_index) (1.4.0)\n",
            "Requirement already satisfied: jax in /usr/local/lib/python3.10/dist-packages (from speech_intelligibility_index) (0.4.16)\n",
            "Requirement already satisfied: jaxlib in /usr/local/lib/python3.10/dist-packages (from speech_intelligibility_index) (0.4.16+cuda11.cudnn86)\n",
            "Requirement already satisfied: matplotlib in /usr/local/lib/python3.10/dist-packages (from speech_intelligibility_index) (3.7.1)\n",
            "Requirement already satisfied: numpy in /usr/local/lib/python3.10/dist-packages (from speech_intelligibility_index) (1.23.5)\n",
            "Requirement already satisfied: ml-dtypes>=0.2.0 in /usr/local/lib/python3.10/dist-packages (from jax->speech_intelligibility_index) (0.3.1)\n",
            "Requirement already satisfied: opt-einsum in /usr/local/lib/python3.10/dist-packages (from jax->speech_intelligibility_index) (3.3.0)\n",
            "Requirement already satisfied: scipy>=1.7 in /usr/local/lib/python3.10/dist-packages (from jax->speech_intelligibility_index) (1.11.3)\n",
            "Requirement already satisfied: contourpy>=1.0.1 in /usr/local/lib/python3.10/dist-packages (from matplotlib->speech_intelligibility_index) (1.1.1)\n",
            "Requirement already satisfied: cycler>=0.10 in /usr/local/lib/python3.10/dist-packages (from matplotlib->speech_intelligibility_index) (0.12.1)\n",
            "Requirement already satisfied: fonttools>=4.22.0 in /usr/local/lib/python3.10/dist-packages (from matplotlib->speech_intelligibility_index) (4.43.1)\n",
            "Requirement already satisfied: kiwisolver>=1.0.1 in /usr/local/lib/python3.10/dist-packages (from matplotlib->speech_intelligibility_index) (1.4.5)\n",
            "Requirement already satisfied: packaging>=20.0 in /usr/local/lib/python3.10/dist-packages (from matplotlib->speech_intelligibility_index) (23.2)\n",
            "Requirement already satisfied: pillow>=6.2.0 in /usr/local/lib/python3.10/dist-packages (from matplotlib->speech_intelligibility_index) (9.4.0)\n",
            "Requirement already satisfied: pyparsing>=2.3.1 in /usr/local/lib/python3.10/dist-packages (from matplotlib->speech_intelligibility_index) (3.1.1)\n",
            "Requirement already satisfied: python-dateutil>=2.7 in /usr/local/lib/python3.10/dist-packages (from matplotlib->speech_intelligibility_index) (2.8.2)\n",
            "Requirement already satisfied: six>=1.5 in /usr/local/lib/python3.10/dist-packages (from python-dateutil>=2.7->matplotlib->speech_intelligibility_index) (1.16.0)\n"
          ]
        }
      ]
    },
    {
      "cell_type": "code",
      "source": [
        "from speech_intelligibility_index import sii"
      ],
      "metadata": {
        "id": "ngz07mMEALd2"
      },
      "execution_count": 20,
      "outputs": []
    },
    {
      "cell_type": "code",
      "source": [
        "default_audiogram_freqs = [125, 250, 500, 750, 1000, 1500, 2000, 3000, 4000, 6000, 8000]\n",
        "\n",
        "def sii_from_audiogram(\n",
        "    audiogram_samples: Union[List[float], np.ndarray],\n",
        "    audiogram_freqs: Union[List[float], np.ndarray] = default_audiogram_freqs) -> float:\n",
        "    \"\"\"Compute the speech intelligibility index from an audiogram\n",
        "\n",
        "    Args:\n",
        "      audiogram_samples: Hearing loss in db at frequencies corresponding to the\n",
        "        next argument\n",
        "      audiogram_freqs: Frequencies (Hz) where audiogram is measured\n",
        "    Returns:\n",
        "      a float, the corresponding speech intelligibility index\n",
        "    \"\"\"\n",
        "    audiogram_samples = np.asarray(audiogram_samples)\n",
        "    audiogram_freqs = np.asarray(audiogram_freqs)\n",
        "    assert audiogram_samples.ndim == 1\n",
        "    assert audiogram_freqs.ndim == 1\n",
        "    assert audiogram_samples.shape[0] == audiogram_freqs.shape[0]\n",
        "\n",
        "    # Interpolate from the supplied audiogram frequencies to the critical\n",
        "    interp_func = interpolate.interp1d(audiogram_freqs, audiogram_samples,\n",
        "                                       kind='quadratic',\n",
        "                                       fill_value='extrapolate')\n",
        "    critical_band_hl = interp_func(sii.mid_band_freqs)\n",
        "\n",
        "    [ssl, nsl, hearing_threshold] = sii.input_5p1(ssl='normal')\n",
        "    return sii.sii(ssl=ssl, nsl=nsl, hearing_threshold=critical_band_hl)"
      ],
      "metadata": {
        "id": "acE4kKxmJKLJ"
      },
      "execution_count": 21,
      "outputs": []
    },
    {
      "cell_type": "code",
      "source": [
        "audiogram_freqs = [int(f[1:]) for f in clusters.labels_v1]\n",
        "audiogram_freqs"
      ],
      "metadata": {
        "colab": {
          "base_uri": "https://localhost:8080/"
        },
        "id": "5piFGvZ-CAiJ",
        "outputId": "fc98f605-8a8c-42ad-b6b6-c3780fa251dd"
      },
      "execution_count": 22,
      "outputs": [
        {
          "output_type": "execute_result",
          "data": {
            "text/plain": [
              "[250, 500, 1000, 2000, 3000, 4000, 6000, 8000]"
            ]
          },
          "metadata": {},
          "execution_count": 22
        }
      ]
    },
    {
      "cell_type": "code",
      "source": [
        "all_siis = []\n",
        "hl_thresholds = all_data[clusters.labels_v1].values\n",
        "\n",
        "for i in range(hl_thresholds.shape[0]):\n",
        "  all_siis.append(sii_from_audiogram(hl_thresholds[i, :], audiogram_freqs))"
      ],
      "metadata": {
        "id": "HrZErLbdTqS5"
      },
      "execution_count": 23,
      "outputs": []
    },
    {
      "cell_type": "code",
      "source": [
        "plt.hist(all_siis)\n",
        "plt.xlabel('Speech Intelligibiloty Index')\n",
        "plt.title('Histogram of SII for all Stanford Data');"
      ],
      "metadata": {
        "colab": {
          "base_uri": "https://localhost:8080/",
          "height": 472
        },
        "id": "k27odCxOCHcu",
        "outputId": "e4183ab0-2cca-4f33-9b46-2b0d45aa5a90"
      },
      "execution_count": 24,
      "outputs": [
        {
          "output_type": "display_data",
          "data": {
            "text/plain": [
              "<Figure size 640x480 with 1 Axes>"
            ],
            "image/png": "[encoded data removed]"
          },
          "metadata": {}
        }
      ]
    },
    {
      "cell_type": "code",
      "source": [
        "all_data['sii_estimate'] = all_siis"
      ],
      "metadata": {
        "id": "A2ZmFcQqUGU2"
      },
      "execution_count": 25,
      "outputs": []
    },
    {
      "cell_type": "markdown",
      "source": [
        "##Save the whole data set for easier retrieval"
      ],
      "metadata": {
        "id": "ay8zty8yAOGs"
      }
    },
    {
      "cell_type": "code",
      "source": [
        "all_data.columns"
      ],
      "metadata": {
        "colab": {
          "base_uri": "https://localhost:8080/"
        },
        "id": "cmoQx_5z9ap4",
        "outputId": "9b6dda99-022f-4b1d-ab21-f32aa434e664"
      },
      "execution_count": 26,
      "outputs": [
        {
          "output_type": "execute_result",
          "data": {
            "text/plain": [
              "Index(['AgeAtTestDate', 'R125', 'R250', 'R500', 'R1000', 'R1500', 'R2000',\n",
              "       'R3000', 'R4000', 'R6000',\n",
              "       ...\n",
              "       'Cluster12Way', 'Cluster13Way', 'Cluster14Way', 'Cluster15Way',\n",
              "       'Cluster16Way', 'Cluster17Way', 'Cluster18Way', 'Cluster19Way',\n",
              "       'Cluster20Way', 'sii_estimate'],\n",
              "      dtype='object', length=118)"
            ]
          },
          "metadata": {},
          "execution_count": 26
        }
      ]
    },
    {
      "cell_type": "code",
      "source": [
        "data_pickle_filename = os.path.join(clusters.default_cluster_dir, 'all_hl_data.pkl')\n",
        "all_data.to_pickle(data_pickle_filename)\n",
        "\n",
        "print(f'All HL data, cluster classifictions, and SII are at {data_pickle_filename}')"
      ],
      "metadata": {
        "colab": {
          "base_uri": "https://localhost:8080/"
        },
        "id": "Ggw_PVlSzw0i",
        "outputId": "e6d8655d-b9a7-4c1c-b89a-052bfdb8f4be"
      },
      "execution_count": 27,
      "outputs": [
        {
          "output_type": "stream",
          "name": "stdout",
          "text": [
            "All HL data, cluster classifictions, and SII are at /content/gdrive/Shareddrives/StanfordAudiology/ColabNotebooks/all_hl_data.pkl\n"
          ]
        }
      ]
    },
    {
      "cell_type": "markdown",
      "source": [
        "##Load and display cluster data"
      ],
      "metadata": {
        "id": "fTlObbvtYCDk"
      }
    },
    {
      "cell_type": "code",
      "source": [
        "kmeans_6, feature_labels_6, all_features6 = clusters.LoadFromJson(cluster_data_filename)"
      ],
      "metadata": {
        "id": "rOTuMISZYEkg"
      },
      "execution_count": 28,
      "outputs": []
    },
    {
      "cell_type": "code",
      "source": [
        "kmeans_6"
      ],
      "metadata": {
        "colab": {
          "base_uri": "https://localhost:8080/",
          "height": 75
        },
        "id": "J9GYOx0lTuR6",
        "outputId": "9bb7e23e-7ca9-45eb-85ff-499649444f10"
      },
      "execution_count": 29,
      "outputs": [
        {
          "output_type": "execute_result",
          "data": {
            "text/plain": [
              "KMeans(max_iter=1000, n_clusters=6, n_init=10, random_state=0)"
            ],
            "text/html": [
              "<style>#sk-container-id-1 {color: black;background-color: white;}#sk-container-id-1 pre{padding: 0;}#sk-container-id-1 div.sk-toggleable {background-color: white;}#sk-container-id-1 label.sk-toggleable__label {cursor: pointer;display: block;width: 100%;margin-bottom: 0;padding: 0.3em;box-sizing: border-box;text-align: center;}#sk-container-id-1 label.sk-toggleable__label-arrow:before {content: \"▸\";float: left;margin-right: 0.25em;color: #696969;}#sk-container-id-1 label.sk-toggleable__label-arrow:hover:before {color: black;}#sk-container-id-1 div.sk-estimator:hover label.sk-toggleable__label-arrow:before {color: black;}#sk-container-id-1 div.sk-toggleable__content {max-height: 0;max-width: 0;overflow: hidden;text-align: left;background-color: #f0f8ff;}#sk-container-id-1 div.sk-toggleable__content pre {margin: 0.2em;color: black;border-radius: 0.25em;background-color: #f0f8ff;}#sk-container-id-1 input.sk-toggleable__control:checked~div.sk-toggleable__content {max-height: 200px;max-width: 100%;overflow: auto;}#sk-container-id-1 input.sk-toggleable__control:checked~label.sk-toggleable__label-arrow:before {content: \"▾\";}#sk-container-id-1 div.sk-estimator input.sk-toggleable__control:checked~label.sk-toggleable__label {background-color: #d4ebff;}#sk-container-id-1 div.sk-label input.sk-toggleable__control:checked~label.sk-toggleable__label {background-color: #d4ebff;}#sk-container-id-1 input.sk-hidden--visually {border: 0;clip: rect(1px 1px 1px 1px);clip: rect(1px, 1px, 1px, 1px);height: 1px;margin: -1px;overflow: hidden;padding: 0;position: absolute;width: 1px;}#sk-container-id-1 div.sk-estimator {font-family: monospace;background-color: #f0f8ff;border: 1px dotted black;border-radius: 0.25em;box-sizing: border-box;margin-bottom: 0.5em;}#sk-container-id-1 div.sk-estimator:hover {background-color: #d4ebff;}#sk-container-id-1 div.sk-parallel-item::after {content: \"\";width: 100%;border-bottom: 1px solid gray;flex-grow: 1;}#sk-container-id-1 div.sk-label:hover label.sk-toggleable__label {background-color: #d4ebff;}#sk-container-id-1 div.sk-serial::before {content: \"\";position: absolute;border-left: 1px solid gray;box-sizing: border-box;top: 0;bottom: 0;left: 50%;z-index: 0;}#sk-container-id-1 div.sk-serial {display: flex;flex-direction: column;align-items: center;background-color: white;padding-right: 0.2em;padding-left: 0.2em;position: relative;}#sk-container-id-1 div.sk-item {position: relative;z-index: 1;}#sk-container-id-1 div.sk-parallel {display: flex;align-items: stretch;justify-content: center;background-color: white;position: relative;}#sk-container-id-1 div.sk-item::before, #sk-container-id-1 div.sk-parallel-item::before {content: \"\";position: absolute;border-left: 1px solid gray;box-sizing: border-box;top: 0;bottom: 0;left: 50%;z-index: -1;}#sk-container-id-1 div.sk-parallel-item {display: flex;flex-direction: column;z-index: 1;position: relative;background-color: white;}#sk-container-id-1 div.sk-parallel-item:first-child::after {align-self: flex-end;width: 50%;}#sk-container-id-1 div.sk-parallel-item:last-child::after {align-self: flex-start;width: 50%;}#sk-container-id-1 div.sk-parallel-item:only-child::after {width: 0;}#sk-container-id-1 div.sk-dashed-wrapped {border: 1px dashed gray;margin: 0 0.4em 0.5em 0.4em;box-sizing: border-box;padding-bottom: 0.4em;background-color: white;}#sk-container-id-1 div.sk-label label {font-family: monospace;font-weight: bold;display: inline-block;line-height: 1.2em;}#sk-container-id-1 div.sk-label-container {text-align: center;}#sk-container-id-1 div.sk-container {/* jupyter's `normalize.less` sets `[hidden] { display: none; }` but bootstrap.min.css set `[hidden] { display: none !important; }` so we also need the `!important` here to be able to override the default hidden behavior on the sphinx rendered scikit-learn.org. See: https://github.com/scikit-learn/scikit-learn/issues/21755 */display: inline-block !important;position: relative;}#sk-container-id-1 div.sk-text-repr-fallback {display: none;}</style><div id=\"sk-container-id-1\" class=\"sk-top-container\"><div class=\"sk-text-repr-fallback\"><pre>KMeans(max_iter=1000, n_clusters=6, n_init=10, random_state=0)</pre><b>In a Jupyter environment, please rerun this cell to show the HTML representation or trust the notebook. <br />On GitHub, the HTML representation is unable to render, please try loading this page with nbviewer.org.</b></div><div class=\"sk-container\" hidden><div class=\"sk-item\"><div class=\"sk-estimator sk-toggleable\"><input class=\"sk-toggleable__control sk-hidden--visually\" id=\"sk-estimator-id-1\" type=\"checkbox\" checked><label for=\"sk-estimator-id-1\" class=\"sk-toggleable__label sk-toggleable__label-arrow\">KMeans</label><div class=\"sk-toggleable__content\"><pre>KMeans(max_iter=1000, n_clusters=6, n_init=10, random_state=0)</pre></div></div></div></div></div>"
            ]
          },
          "metadata": {},
          "execution_count": 29
        }
      ]
    },
    {
      "cell_type": "code",
      "source": [
        "clusters.PlotClusterCenters(feature_labels_6, kmeans_6, None, 6)"
      ],
      "metadata": {
        "colab": {
          "base_uri": "https://localhost:8080/",
          "height": 476
        },
        "id": "EkA9ywDYY64c",
        "outputId": "e1e4b0ad-9f31-4379-8428-c31fa7eadddc"
      },
      "execution_count": 30,
      "outputs": [
        {
          "output_type": "display_data",
          "data": {
            "text/plain": [
              "<Figure size 640x480 with 1 Axes>"
            ],
            "image/png": "[encoded data removed]"
          },
          "metadata": {}
        }
      ]
    },
    {
      "cell_type": "code",
      "source": [],
      "metadata": {
        "id": "Z0mrikm3aMqc"
      },
      "execution_count": 30,
      "outputs": []
    }
  ]
}